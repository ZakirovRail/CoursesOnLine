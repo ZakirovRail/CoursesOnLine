{
 "cells": [
  {
   "cell_type": "code",
   "execution_count": 51,
   "id": "90aa9516",
   "metadata": {},
   "outputs": [],
   "source": [
    "import pandas as pd\n",
    "import numpy as np"
   ]
  },
  {
   "cell_type": "code",
   "execution_count": 100,
   "id": "b906b69d",
   "metadata": {},
   "outputs": [],
   "source": [
    "df1 = pd.read_csv('/Users/Rail.zakirov/Desktop/17.09.2022/test_merge/test_merge_WDD_Peakon_Data_DER_custom_sdet.csv')"
   ]
  },
  {
   "cell_type": "code",
   "execution_count": 101,
   "id": "f2e31354",
   "metadata": {},
   "outputs": [],
   "source": [
    "df2 = pd.read_csv('/Users/Rail.zakirov/Desktop/17.09.2022/test_merge/test_merge_worker_wid_peakon.csv')"
   ]
  },
  {
   "cell_type": "code",
   "execution_count": 102,
   "id": "0d141d7b",
   "metadata": {},
   "outputs": [],
   "source": [
    "df1['employeeIdentifier'] = df1['employeeIdentifier'].astype(str)\n",
    "df3 = df1.merge(df2, how='inner', on='employeeIdentifier')"
   ]
  },
  {
   "cell_type": "markdown",
   "id": "c00071bb",
   "metadata": {},
   "source": [
    "In case on renaming columns:\n",
    "df4 = df3.rename(columns={'employeeExternalId_y':'employeeExternalId', 'employeeId_y':'employeeId'})"
   ]
  },
  {
   "cell_type": "code",
   "execution_count": 103,
   "id": "d4010092",
   "metadata": {},
   "outputs": [],
   "source": [
    "df4[['employeeIdentifier', 'employeeExternalId', 'employeeId' ]].to_csv('/Users/Rail.zakirov/Desktop/17.09.2022/test_merge/final_result.csv')"
   ]
  },
  {
   "cell_type": "code",
   "execution_count": 107,
   "id": "10866a94",
   "metadata": {},
   "outputs": [],
   "source": [
    "df_final_order = ['accountEmail', 'answerId', 'answerComment', 'answerLocale',\n",
    "       'answerScore', 'answerSkipReason', 'answerText', 'categoryGroup',\n",
    "       'categoryId', 'categoryStandard', 'companyId', 'employeeExternalId',\n",
    "       'employeeId', 'employeeIdentifier', 'questionId', 'questionText',\n",
    "       'questionType', 'responseAnsweredAt', 'responseId', 'roundEnd',\n",
    "       'roundId', 'roundOpensAt', 'roundType', 'scheduleContextName',\n",
    "       'scheduleId', 'WDD_Snapshot_Effective_Moment']"
   ]
  },
  {
   "cell_type": "code",
   "execution_count": 108,
   "id": "fc0650f2",
   "metadata": {},
   "outputs": [],
   "source": [
    "df4 = df4[df_final_order]"
   ]
  },
  {
   "cell_type": "code",
   "execution_count": 110,
   "id": "ef2cef7f",
   "metadata": {},
   "outputs": [
    {
     "data": {
      "text/plain": [
       "Index(['accountEmail', 'answerId', 'answerComment', 'answerLocale',\n",
       "       'answerScore', 'answerSkipReason', 'answerText', 'categoryGroup',\n",
       "       'categoryId', 'categoryStandard', 'companyId', 'employeeExternalId',\n",
       "       'employeeId', 'employeeIdentifier', 'questionId', 'questionText',\n",
       "       'questionType', 'responseAnsweredAt', 'responseId', 'roundEnd',\n",
       "       'roundId', 'roundOpensAt', 'roundType', 'scheduleContextName',\n",
       "       'scheduleId', 'WDD_Snapshot_Effective_Moment'],\n",
       "      dtype='object')"
      ]
     },
     "execution_count": 110,
     "metadata": {},
     "output_type": "execute_result"
    }
   ],
   "source": [
    "df4.columns"
   ]
  },
  {
   "cell_type": "code",
   "execution_count": 111,
   "id": "fdbb1e26",
   "metadata": {},
   "outputs": [],
   "source": [
    "#df4.drop(['employeeExternalId_x','employeeId_x'], axis=1)"
   ]
  },
  {
   "cell_type": "code",
   "execution_count": 117,
   "id": "da736201",
   "metadata": {},
   "outputs": [],
   "source": [
    "df4.to_csv('/Users/Rail.zakirov/Desktop/17.09.2022/test_merge/final_result.csv.gz', index=False, compression=\"gzip\")"
   ]
  }
 ],
 "metadata": {
  "kernelspec": {
   "display_name": "Python 3 (ipykernel)",
   "language": "python",
   "name": "python3"
  },
  "language_info": {
   "codemirror_mode": {
    "name": "ipython",
    "version": 3
   },
   "file_extension": ".py",
   "mimetype": "text/x-python",
   "name": "python",
   "nbconvert_exporter": "python",
   "pygments_lexer": "ipython3",
   "version": "3.9.4"
  }
 },
 "nbformat": 4,
 "nbformat_minor": 5
}
